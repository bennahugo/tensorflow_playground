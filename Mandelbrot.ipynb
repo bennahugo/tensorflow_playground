{
 "cells": [
  {
   "cell_type": "code",
   "execution_count": null,
   "metadata": {
    "collapsed": false
   },
   "outputs": [],
   "source": [
    "# Import libraries for simulation\n",
    "import tensorflow as tf\n",
    "reload(tf)\n",
    "import numpy as np\n",
    "\n",
    "# Imports for visualization\n",
    "from matplotlib import pyplot as plt\n",
    "%matplotlib inline"
   ]
  },
  {
   "cell_type": "code",
   "execution_count": null,
   "metadata": {
    "collapsed": false
   },
   "outputs": [],
   "source": [
    "def compute_fractal():\n",
    "    Y, X = np.mgrid[-1.3:1.3:0.001, -2:1:0.001]\n",
    "    Z = X+1j*Y\n",
    "    print Z.nbytes / 1024.0**3, \"GiB being used\"\n",
    "    xs = tf.constant(Z.astype(np.complex64))\n",
    "    zs = tf.Variable(xs)\n",
    "    ns = tf.Variable(tf.zeros_like(xs, tf.float32))\n",
    "\n",
    "    tf.initialize_all_variables().run()\n",
    "    zs_ = zs*zs + xs\n",
    "    not_diverged = tf.complex_abs(zs_) < 3\n",
    "    step = tf.group(\n",
    "      zs.assign(zs_),\n",
    "      ns.assign_add(tf.cast(not_diverged, tf.float32))\n",
    "      )\n",
    "    for i in range(20): step.run()\n",
    "    return ns"
   ]
  },
  {
   "cell_type": "code",
   "execution_count": null,
   "metadata": {
    "collapsed": false
   },
   "outputs": [],
   "source": [
    "plt.figure()\n",
    "data = None\n",
    "with tf.Session() as sess:\n",
    "    data = sess.run(compute_fractal())\n",
    "plt.imshow(data)\n",
    "plt.show()"
   ]
  },
  {
   "cell_type": "code",
   "execution_count": null,
   "metadata": {
    "collapsed": false
   },
   "outputs": [],
   "source": [
    "del xs, zs, ns, Y,X,sess,Z,step"
   ]
  },
  {
   "cell_type": "code",
   "execution_count": null,
   "metadata": {
    "collapsed": true
   },
   "outputs": [],
   "source": []
  }
 ],
 "metadata": {
  "kernelspec": {
   "display_name": "Python 2",
   "language": "python",
   "name": "python2"
  },
  "language_info": {
   "codemirror_mode": {
    "name": "ipython",
    "version": 2
   },
   "file_extension": ".py",
   "mimetype": "text/x-python",
   "name": "python",
   "nbconvert_exporter": "python",
   "pygments_lexer": "ipython2",
   "version": "2.7.6"
  }
 },
 "nbformat": 4,
 "nbformat_minor": 0
}
