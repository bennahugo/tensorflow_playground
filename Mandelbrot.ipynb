{
 "cells": [
  {
   "cell_type": "code",
   "execution_count": null,
   "metadata": {
    "collapsed": false
   },
   "outputs": [],
   "source": [
    "# Import libraries for simulation\n",
    "import tensorflow as tf\n",
    "reload(tf)\n",
    "import numpy as np\n",
    "\n",
    "# Imports for visualization\n",
    "from matplotlib import pyplot as plt\n",
    "%matplotlib inline\n",
    "\n",
    "import resource"
   ]
  },
  {
   "cell_type": "code",
   "execution_count": null,
   "metadata": {
    "collapsed": false
   },
   "outputs": [],
   "source": [
    "def compute_fractal(session):\n",
    "    N = 4096\n",
    "    X = np.linspace(-1.3,1.3,N)\n",
    "    Y = np.linspace(-2,1,N)\n",
    "    XX, YY = np.meshgrid(X,Y)\n",
    "    Z = YY+1j*XX\n",
    "    print Z.nbytes / 1024.0**3, \"GiB being used by image\"\n",
    "    xs = tf.constant(Z.astype(np.complex64))\n",
    "    zs = tf.Variable(xs)\n",
    "    ns = tf.Variable(tf.zeros_like(xs, tf.float32))\n",
    "\n",
    "    tf.initialize_all_variables().run()\n",
    "    zs_ = zs*zs + xs\n",
    "    not_diverged = tf.complex_abs(zs_) < 3\n",
    "    step = tf.group(\n",
    "      zs.assign(zs_),\n",
    "      ns.assign_add(tf.cast(not_diverged, tf.float32))\n",
    "      )\n",
    "    for i in range(50): session.run(step)\n",
    "    return session.run(ns)"
   ]
  },
  {
   "cell_type": "code",
   "execution_count": null,
   "metadata": {
    "collapsed": false
   },
   "outputs": [
    {
     "name": "stdout",
     "output_type": "stream",
     "text": [
      "0.636028289795 GiB process-wide\n",
      "0.25 GiB being used by image\n"
     ]
    }
   ],
   "source": [
    "print resource.getrusage(resource.RUSAGE_SELF).ru_maxrss / 1024.0**2, \"GiB process-wide\"\n",
    "plt.figure()\n",
    "data = None\n",
    "with tf.Graph().as_default():\n",
    "    with tf.Session() as sess:\n",
    "        data = compute_fractal(sess)\n",
    "plt.imshow(data)\n",
    "plt.show()\n",
    "print resource.getrusage(resource.RUSAGE_SELF).ru_maxrss / 1024.0**2, \"GiB process-wide\""
   ]
  },
  {
   "cell_type": "code",
   "execution_count": null,
   "metadata": {
    "collapsed": true
   },
   "outputs": [],
   "source": []
  }
 ],
 "metadata": {
  "kernelspec": {
   "display_name": "Python 2",
   "language": "python",
   "name": "python2"
  },
  "language_info": {
   "codemirror_mode": {
    "name": "ipython",
    "version": 2
   },
   "file_extension": ".py",
   "mimetype": "text/x-python",
   "name": "python",
   "nbconvert_exporter": "python",
   "pygments_lexer": "ipython2",
   "version": "2.7.6"
  }
 },
 "nbformat": 4,
 "nbformat_minor": 0
}
